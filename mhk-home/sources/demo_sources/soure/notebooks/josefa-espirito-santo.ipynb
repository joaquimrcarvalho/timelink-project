{
 "cells": [
  {
   "cell_type": "markdown",
   "source": [
    "# O caso de Josefa do Espírito Santo e José Rodrigues, 1716"
   ],
   "metadata": {}
  },
  {
   "cell_type": "markdown",
   "source": [
    "## __Impedimento__ com que Josefa do Espírito Santo do lugar de Casa Nova freguesia de Soure saiu sobre promessas de casamento que diz haver ter feito José Rodrigues, que se __apregoou__ para casar com Maria Francisca deste mesmo lugar\n",
    "\n",
    "> __impedimento__:  queixa com o objetivo de impedir, ou evitar, a realização de um casamento\n",
    "\n",
    ">  __apregoar__: o mesmo que __anunciar__"
   ],
   "metadata": {}
  },
  {
   "cell_type": "markdown",
   "source": [
    "\n",
    "---\n",
    "Os papéis relativos a este impedimento estão no Arquivo da Universidade de Coimbra, que recebeu os documentos da antiga diocese de Coimbra, incluindo a documentação do tribunal do bispo, onde se tratavam assuntos de família e moralidade, entre outros. \n",
    "\n",
    "Os papéis estão muito danificados e por isso nem sempre é possível ler integralmente o conteúdo original.\n",
    "\n",
    "No mesmo arquivo estão conservados os registos de batismos, casamentos e óbitos da igreja paroquial de Soure, que permitem obter mais informação sobre as pessoas envolvidas.\n",
    "\n",
    "> Existe uma *base de dados com as informações recolhidas nesses documentos*\n",
    ">\n",
    ">\n",
    ">Para aceder à base de dados:\n",
    ">> visitar a página [https://timelink.uc.pt/mhk](https://timelink.uc.pt/mhk)\n",
    "\n",
    ">>  na zona da esquerda introduzir o número pedido e carregar no botão `soure_editor`. \n",
    ">\n",
    ">\n",
    ">A partir desse momento é possível aceder à informação seguindo as ligações a azul neste documento, como por exemplo:[Josefa do Espírito Santo](https://timelink.uc.pt/mhk/soure/id/rp-448).\n",
    "\n"
   ],
   "metadata": {}
  },
  {
   "cell_type": "markdown",
   "source": [
    "---\n",
    "### O \"impedimento\"\n",
    "\n",
    "Transcrição parcial do relatório do Padre da freguesia"
   ],
   "metadata": {}
  },
  {
   "cell_type": "markdown",
   "source": [
    "\n",
    "\n",
    "> Manuel Rodrigues, __vigário__ de Soure, publicou os __banhos__ do casamento de José Rodrigues com Maria Francisco, em três dias __festivos__ contínuos à __estação da missa__, estando muita parte do povo junto e que não __saiu__ pessoa alguma com impedimento __canónico__ senão [Josefa do Espírito Santo](https://timelink.uc.pt/mhk/soure/id/rp-448) solteira,...\n",
    "\n",
    "*  __vigário__: padre responsável pela freguesia (paróquia); é quem celebra a missa e preside aos principais rituais católicos do casamento, batizados, óbitos.\n",
    "*  __banhos__: anúncio público da intenção de duas pessoas se casarem, para permitir que quem tenha razões em contrário se manifeste.\n",
    "* __dias festivos__: o mesmo que dias _feriados_.\n",
    "* __estação da missa__: parte da missa em que se faziam anúncios públicos, ou se explicam aspectos da doutrina.\n",
    "* __saiu__: surgiu, apareceu.\n",
    "* __canónico__: relativo ao Direito Canónico, que era o direito da Igreja, aplicável aos seus membros mas também à população em geral em determinados aspectos, nomeadamente no que dizia respeito a questões de casamento e outros aspectos da vida familiar, doações de bens para salvação da alma, e muitos outros aspectos.\n",
    "\n",
    "\n",
    " > dizendo que o __contraente__ [José Rodrigues](https://timelink.uc.pt/mhk/soure/id/rp-536) na ocasião do __S. Mateus passado__,  fizera já um ano se __contratou de casar__ com ela... procurando-a para esse efeito em sua casa e jurando-lhe que era sinceramente e não __zombava__, ajustando com ela que pelo Natal seguinte se haviam de pôr os banhos na Igreja e se haviam de __receber__ \n",
    " \n",
    "* __contraente__: o que vai contrair matrimónio\n",
    "* __S. Mateus__: 21 de setembro de 1715\n",
    "* __contratar de casar__: aqui tem o significado de \"comprometeu-se a casar\" \n",
    "* __zombar__: mentir, fazer troça,  \n",
    "* __receber__: aqui significa _casar_, usava-se em expressões como _receberem-se perante a Igreja_; também se usa _recebimento_ no sentido de _casamento_.\n",
    " \n",
    " > e que tinha chegado o dito tempo e se desculpou ele com lhe faltar um __capote__ para se compor, e que lhe pusera em delação o dito casamento com o __entrudo__ seguinte,  daí até ao __S. Miguel  próximo passado__  \n",
    " \n",
    " * __capote__: casaco grande.\n",
    " * __por em delação__: adiar.\n",
    " * __entrudo__:  ou Carnaval, é a festa que antecede o período da Quaresma; a Quaresma é o período de 40 dias que antece a Páscoa; a Páscoa de 1716 foi a 1 de abril, por isso o “entrudo” a 14 de fevereiro de 1716; na quaresma evitam-se os casamentos, porque é tempo de luto religioso e jejum.\n",
    " * __S. Miguel__, 29 de setembro de 1716; _próximo passado_ significa o \"último S.Miguel\". \n",
    "  \n",
    " \n",
    " > e que com tudo ou na maneira _[ilegível]_ dito tempo continuava o dito contraente por virtude _[ilegível]_ e promessas de futuro matrimónio, que fizeram um ao outro, ir a casa dela impediente, com o que disse não tão somente _[ilegível]_ tirara a sua boa fama para com toda a vizinhança do dito lugar, mas que também a desonestara assim por obra, conhecendo-a muitas vezes por cópulas carnais para o que ela disse consentira levada da boa fé do contraente se lhe ir meter em sua casa com inoportunos rogos e repetidas promessas de matrimónio que continuamente lhe fazia, dizendo-lhe que com casar com ela lhe pagava tudo, e que a nenhuma outra tinha feito promessas algumas de matrimónio e só com ela havia de casar e por lhe parecer que ele falava verdade, e ela impediente não saber o contrário do que ele dizia, _[frase ilegível]_ e que portanto lhe punha este justo impedimento no modo referido, que por ser mulher e não saber escrever me pediu assinar por ela _[assinado pelo vigário]_\n",
    "\n",
    "\n",
    "\n",
    "\n",
    "\n"
   ],
   "metadata": {}
  },
  {
   "cell_type": "markdown",
   "source": [
    "Na sequência desta queixa o tribunal do Bispo informa em 27 de outubro que Josefa tem 6 dias para provar o seu direito.\n",
    "\n",
    "O Padre vai interrogar Josefa e as testemunhas que ela indicou."
   ],
   "metadata": {}
  },
  {
   "cell_type": "markdown",
   "source": [
    "---\n",
    "### Interrogatório de Josefa do Espírito Santo _(posterior a 27 de outubro de 1716)_\n",
    "\n",
    "Ao identificar-se, diz que tem 28 anos. Diz que pelo S.Mateus de há um ano fora [José Rodrigues](https://timelink.uc.pt/mhk/soure/id/rp-536) a casa dela e lhe prometeu com ela casar "
   ],
   "metadata": {}
  },
  {
   "cell_type": "markdown",
   "source": [
    "\n",
    ">“sob o que teve dela tudo o que quis” \n",
    ">\n",
    ">\n",
    ">“e no natal seguinte indo a casa dela lhe perguntou se para se receberem lhe faltava alguma coisa e dizendo-lhe não, dissera que a elle lhe faltava um capote, o que para ele havia de pedir o dinheiro ao clérigo Saramago\"\n",
    ">\n",
    ">\n",
    "> \"ao que ela respondera que erão pobres para que queriam logo empenhar-se de entrada e depois pela __oitava da Páscoa__, dizendo-lhe ela que tratassem de se receber, elle respondeu que ficassem para o S. Miguel porque em Maio[?] estava o pão caro ....\" \n",
    "\n",
    "*  __oitava da Páscoa__: primeira semana a seguir a domingo de Páscoa, fins de abril "
   ],
   "metadata": {}
  },
  {
   "cell_type": "markdown",
   "source": [
    "---\n",
    "### Depoimento das testemunhas nomeadas por Josefa"
   ],
   "metadata": {}
  },
  {
   "cell_type": "markdown",
   "source": [
    "### [Mariana Francisco](https://timelink.uc.pt/mhk/soure/id/rp-487), mulher de [Manuel Gaspar](https://timelink.uc.pt/mhk/soure/id/rp-486), trabalhador da Casa Velha, 27 anos, parente da Josefa em 3º grau.\n",
    "\n",
    ">“A impediente lhe confessara a ela testemunha que o impedido lhe fizera promessas de casamento ao que ela testemunha dera crédito por ver que ambos eram iguais no sangue como nos bens” \n",
    ">\n",
    ">\n",
    ">“A algumas pessoas ouvira dizer que o impedido confessara haver levado a impediente de sua honra” \n",
    ">\n",
    ">\n",
    ">“Sabia pelo ver que o impedido saíra algumas vezes de noite da casa da impediente”\n",
    "\n"
   ],
   "metadata": {}
  },
  {
   "cell_type": "markdown",
   "source": [
    "### [Isabel Rodrigues](https://timelink.uc.pt/mhk/soure/id/rp-517), solteira, filha do falecido [Manuel Jorge](https://timelink.uc.pt/mhk/soure/id/rp-514), Lavrador, da Casa Velha, 35 anos, prima do impedido.\n",
    "\n",
    "> “Não assistira a promessas algumas de casamento” \n",
    ">\n",
    ">\n",
    ">“Sabia que ele se comprometera para haverem de casar ambos e por debaixo das mesmas promessas tivera com ela cópula carnal” \n",
    ">\n",
    ">\n",
    ">“ia de noite a casa da impediente”\n",
    ">\n",
    ">\n",
    ">“por ser sua prima lhe perguntara se tinha tido com ela algum tracto ilícito, ao que ele respondera que sim entendendo[?] ela testemunha que isso não podia ser sem precederem promessas de casamento também e então lhe confessara as tais promessas, mas que a não haverá de receber por quanto tendo cópula com ela a não achara honrada ao que ela testemunha não dera crédito por ser a dita impediente até então mulher honrada e bem procedida”\n"
   ],
   "metadata": {}
  },
  {
   "cell_type": "markdown",
   "source": [
    "### [Josefa](https://timelink.uc.pt/mhk/soure/id/rp-490), solteira, filha de [José Leão](https://timelink.uc.pt/mhk/soure/id/rp-492), Casa Velha, 26 anos, prima do impedido "
   ],
   "metadata": {}
  },
  {
   "cell_type": "markdown",
   "source": [
    ">“Não sabia mais do que ter visto algumas vezes o impedido ir a casa da impediente” \n",
    ">\n",
    ">\n",
    ">“Perguntando-lhe curiosamente, por ser sua prima, o que ia fazer a tal casa, e se tinha algum trato com a dita impediente, ele confessara ter tido com que ela cópula carnal mas que não lhe dissera haver-lhe feito promessas algumas de casamento, porém ela testemunha entendera que o impedido mentira na segunda parte do que ocultara, pois tinha para si que se eles tiveram cópula carnal um com o outro a impediente se lhe não houvera de entregar senão debaixo de promessas de casamento”"
   ],
   "metadata": {}
  },
  {
   "cell_type": "markdown",
   "source": [
    "### Fim do depoimento das testemunhas indicadas por Josefa do Espírito Santo.\n",
    "\n",
    "Registo de que Josefa do Espírito Santo pagou uma taxa para que o processo fosse registado.\n",
    "\n",
    "> A impediente pagou 311 réis."
   ],
   "metadata": {}
  },
  {
   "cell_type": "markdown",
   "source": [
    "---\n",
    "## Impedimento de [Maria Francisca](https://timelink.uc.pt/mhk/soure/id/rp-485), solteira, filha do falecido [Matias Rodrigues](https://timelink.uc.pt/mhk/soure/id/rp-465), ao casamento de José Rodrigues com Josefa do Espírito Santo\n",
    "\n",
    "\n",
    "O documento seguinte é um novo impedimento de Maria Francisca (a noiva original) contra José Rodrigues, na publicação dos banhos do casamento dele com Josefa do Espírito Santo.\n",
    "\n",
    "Conclui-se que José Rodrigues mudou de ideias, e decidiu casar com Josefa, na sequência do impedimento e talvez uma intervenção do pároco. Aos párocos recomendava-se que resolvessem estes casos por persuassão, tentando preservar sempre o caracter consensual do casamento.\n"
   ],
   "metadata": {}
  },
  {
   "cell_type": "markdown",
   "source": [
    "> Manuel Rodrigues vigário da colegiada de S. Tiago da vila de Soure deste bispado de Coimbra certifico eu na sobredita igreja publiquei a carta de banho acima que sendo a estação da missa de terça em três dias festivos, estando muita parte de povo na forma do Sagrado Concílio Tridentino e Constituições deste Bispado de Coimbra, a ela não saiu outra alguma pessoa com canónico impedimento senão Maria Francisca, solteira, filha do falecido Matias Rodrigues da Casa Velha, \n",
    ">\n",
    ">\n",
    "> dizendo-me que o contraente [José Rodrigues](https://timelink.uc.pt/mhk/soure/id/rp-536) lhe tinha prometido casar com ela impediente houvera três anos a esta parte, mais ou menos e que lhe era devedor da sua fama, pela muita comunicação que com ela impediente tinha tido... em casa um do outro à vista e face da vizinhança do dito lugar \n",
    "> \n",
    "> \n",
    "> e me apresentou um escrito de promessas de casamento que disse lhe dera o contraente do qual consta ser feito em 18 de agosto de 1716 e assinado por [Manuel Pedroso](https://timelink.uc.pt/mhk/soure/id/rp-456) da freguesia da Gesteira e pelo contraente José Rodrigues e testemunhas [Domingos da Costa](https://timelink.uc.pt/mhk/soure/id/rp-536) e [José Luís](https://timelink.uc.pt/mhk/soure/id/rp-506) da Casa Velha \n",
    "> \n",
    "> \n",
    "> e por virtude e em observância de tudo o referido se tem nesta dita __colegiada__ publicado os banhos entre ela impediente e o dito contraente a que disse a dita contraente viera com impedimento. \n",
    "\n",
    "* __colegiada__: refere-se à Igreja Paroquial de Soure, que tinha o estatuto de __igreja colegiada__, que significa que tinha vários padres residentes.\n",
    "\n",
    "\n",
    "### Além de alegar que [José Rodrigues](https://timelink.uc.pt/mhk/soure/id/rp-536) lhe fez uma promessa de casamento por escrito, Maria Francisca faz uma insinuação adicional: de que [Josefa do Espírito Santo](https://timelink.uc.pt/mhk/soure/id/rp-448) teria tido uma relação com um parente de [José Rodrigues](https://timelink.uc.pt/mhk/soure/id/rp-536)\n",
    "\n",
    ">E outrossim me dissera ouvir ela __impediente__ dizer a um tal [Manuel Brás](https://timelink.uc.pt/mhk/soure/id/rp-466) da Casa Velha e a um António, solteiro, criado de [António de Melo e Ataíde](https://timelink.uc.pt/mhk/soure/id/rp-39), morador na Quinta da Capa Rota, que é filho de [Manuel de Gouveia](https://timelink.uc.pt/mhk/soure/id/rp-507) do Casal Novo, que da casa da contraente, [Josefa do Espírito Santo](https://timelink.uc.pt/mhk/soure/id/rp-448), saíra por vezes a desoras da noite há tempos passados um [Manuel Jorge](https://timelink.uc.pt/mhk/soure/id/rp-480) solteiro que também é criado do dito [António de Melo e Ataíde](https://timelink.uc.pt/mhk/soure/id/rp-39) o qual disse ser __parente em segundo grau em linha colateral__ do dito __contraente__ e disse que __sem embargo__ sem que ela impediente visse que entre o dito parente do contraente houvesse atos desonestos donde nascesse o __impedimento de afinidade__ para não poder casar com o dito contraente, contudo disse disso havia presunções com fundamentos nos sobreditos e em outras muitas pessoas da vizinhança do dito lugar da Casa Velha e de como mais impedimentos não declarou a impediente.\n",
    "\n",
    "* __impediente__: a pessoa que colocou o impedimento, neste caso Maria Francisca\n",
    "* __parente em segundo grau em linha colateral__: parentes em linha colateral são os que têm um antepassado em comum. Os __graus__ de parentesco exprimem quantas pessoas formam a linha de parentesco entre duas pessoas. Neste caso significa que Manuel Jorge seria primo direito de José Rodrigues. Sobre este assunto ver [https://tombo.pt/conteudo/graus-de-parentesco](https://tombo.pt/conteudo/graus-de-parentesco)\n",
    "* __contraente__: a pessoas que ia contrair matrimónio, José Rodrigues\n",
    "* __sem embargo__: não obstante, apesar de; aqui Maria Francisca diz que apesar de não ter visto nada de \"desonesto\" entre Josefa e Manuel Jorge, havia razões para suspeitar que algo havia\n",
    "* __impedimento de afinidade__: uma forma de impedimento que surgia quando um dois noivos tinha tido uma relação com um parente do outro.\n",
    "\n",
    "\n",
    "> Testemunhas por ela nomeadas.\n",
    ">> [António Bernardes](https://timelink.uc.pt/mhk/soure/id/rp-210), casado, barbeiro da Casa Velha\n",
    ">>\n",
    ">> [Manuel da Costa](https://timelink.uc.pt/mhk/soure/id/rp-511), casado, lavrador da Casa Velha\n",
    ">>\n",
    ">> [Manuel Lopes](https://timelink.uc.pt/mhk/soure/id/rp-329), Casa Velha, lavrador, casado\n",
    ">>\n",
    ">> [Manuel Pedroso](https://timelink.uc.pt/mhk/soure/id/rp-329), casado, Gesteira, onde __vive da sua fazenda__\n",
    ">>\n",
    ">>  [Domingos da Costa](https://timelink.uc.pt/mhk/soure/id/rp-504), trabalhador da Casa Velha.\n",
    "\n",
    "* __vive de sua fazenda__: vive dos rendimentos das suas propriedades."
   ],
   "metadata": {}
  },
  {
   "cell_type": "markdown",
   "source": [
    "### Termo de desistência de 16 de Dezembro de 1716\n",
    "\n",
    "O padre não chega a interrogar as testemunhas porque Maria Francisca desiste do caso.\n",
    "\n",
    "> “Por ela desistente não querer andar em __pleitos__ e fazer gastos com incerteza de lhe aproveitarem”\n",
    "\n",
    "* __pleitos__: processos judiciais.\n",
    "\n"
   ],
   "metadata": {}
  },
  {
   "cell_type": "markdown",
   "source": [
    "---\n",
    "## Interrogatório de testemunhas a propósito da eventual relação entre [Josefa do Espírito Santo](https://timelink.uc.pt/mhk/soure/id/rp-448) e [Manuel Jorge](https://timelink.uc.pt/mhk/soure/id/rp-480), primo do seu noivo, [José Rodrigues](https://timelink.uc.pt/mhk/soure/id/rp-536)\n",
    "\n",
    "O vigário de Soure não pode ignorar a segunda acusação de Maria Francisca sobre uma possível relação existir entre [Josefa do Espírito Santo](https://timelink.uc.pt/mhk/soure/id/rp-448) e um primo da pessoa com quem se vai casa.\n",
    "\n",
    "A desistência do impedimento por Maria Francisca não anula este caso, porque é um impedimento face ao direito, independentemente de existir alguém que se sinta lesado. O vigário tem assim obrigação de esclarecer a situação, interrogando as pessoas diretamente envolvidas pelo relato de Maria Francisca."
   ],
   "metadata": {}
  },
  {
   "cell_type": "markdown",
   "source": [
    "### [Manuel Jorge](https://timelink.uc.pt/mhk/soure/id/rp-480), solteiro, criado de [António de Melo e Ataíde](https://timelink.uc.pt/mhk/soure/id/rp-39), natural da Casa Velha, 30 anos, __primo inteiro de segundo grau de consanguinidade__ do contraente \n",
    "\n",
    " * __primo inteiro de segundo grau de consanguinidade__: filhos de irmãos: a testemunha era filho de [Manuel Jorge](https://timelink.uc.pt/mhk/soure/id/rp-514), já defunto, irmão de [Isabel Gonçalves](https://timelink.uc.pt/mhk/soure/id/rp-519), mãe de [José Rodrigues](https://timelink.uc.pt/mhk/soure/id/rp-536).\n",
    "\n",
    " > “Disse que tudo era falso” “que só algumas vezes por razões de vizinhos falava com ela rindo e zombando como com outra qualquer”\n"
   ],
   "metadata": {}
  },
  {
   "cell_type": "markdown",
   "source": [
    "### [Maria Francisca](https://timelink.uc.pt/mhk/soure/id/rp-485), solteira, impediente, 25 anos, Casa Velha ... \n",
    "\n",
    "Repete a história que relatou no impedimento, \n",
    "\n",
    "> “ e não ouvira dizer a [Manuel Brás](https://timelink.uc.pt/mhk/soure/id/rp-466) senão por uma vez que [Manuel Jorge](https://timelink.uc.pt/mhk/soure/id/rp-514), solteiro, criado de [António de Melo e Ataíde](https://timelink.uc.pt/mhk/soure/id/rp-39) saíra de casa da contraente por uma vez somente a desoras da noite” \n",
    "> \n",
    "> \n",
    "> “Ouvira dizer a António, solteiro, filho de Manuel de Gouveia do Casal Novo, criado do dito, que estando vigiando de noite em um quintal de um António João, daí vira sair o dito Manuel Jorge de casa da contraente, saindo ela primeiro à rua e ele ao depois” \n",
    "> \n",
    "> \n",
    "> “também ouvira dizer ao dito António solteiro que fora o sobredito lá a altas horas da noite” \n",
    "> \n",
    "> \n",
    "> “ouvira dizer a Isabel, solteira, irmã de [Manuel Jorge](https://timelink.uc.pt/mhk/soure/id/rp-514), que o irmão dissera em casa de Manuel Luís da Casa Velha, que tinha tido primeira cópula com ela e já a não achara honrada”"
   ],
   "metadata": {}
  },
  {
   "cell_type": "markdown",
   "source": [
    "### [Isabel Rodrigues](https://timelink.uc.pt/mhk/soure/id/rp-517), solteira, 33 anos, 2º grau de consanguinidade com José Rodrigues\n",
    "\n",
    ">“Disse que nunca ouvira dizer a seu irmão [Manuel Jorge](https://timelink.uc.pt/mhk/soure/id/rp-514) nem a outra pessoa alguma que o dito seu irmão em algum tempo tivesse cópulas carnais com a contraente e assim o não podia dizer como o não dissera”\n"
   ],
   "metadata": {}
  },
  {
   "cell_type": "markdown",
   "source": [
    "### [Manuel Brás](https://timelink.uc.pt/mhk/soure/id/rp-466), trabalhador da Casa Velha, 50 anos, parente por afinidade do contraente\n",
    "\n",
    ">“Disse ele testemunha que nunca lhe dissera que vira sair de casa da contraente [Manuel Jorge](https://timelink.uc.pt/mhk/soure/id/rp-514)]”\n",
    ">\n",
    ">\n",
    ">”não sabe que o dito [Manuel Jorge](https://timelink.uc.pt/mhk/soure/id/rp-514)] com a dita contraente tivesse em tempo algum ato desonesto”"
   ],
   "metadata": {}
  },
  {
   "cell_type": "markdown",
   "source": [
    "### António, filho de Manuel da Fonseca, Casal Novo, ausente em Coimbra em casa do muito reverendo tesoureiro maior da [...] criado, 22 anos, interrogado em Coimbra \n",
    "\n",
    "> “disse que tudo o que contém o requerimento nele feito é contra a verdade pois ele nunca espreitou [Manuel Jorge](https://timelink.uc.pt/mhk/soure/id/rp-514)] nem viu ou ouviu que ele tivesse ações desonestas com a impedida”"
   ],
   "metadata": {}
  },
  {
   "cell_type": "markdown",
   "source": [
    "## Conclusão do impedimento de Maria Francisco contra o casamento de José Rodrigues com Josefa do Espírito Santo\n",
    "\n",
    "\n",
    "> “não procede impedimento, sem embargo dele não havendo outro, se podem os contraentes receber, guardada a forma do __Sagrado Concílio__”\n",
    "\n",
    "__Sagrado Concíclio__: referência ao Concílio de Trento, que teve lugar na segunda metade do século XVI em Trento, Itália. Os Concílios eram reuniões convocadas por Papas para produzir decisões sobre a Igreja Católica. O Concílio de Trento definiu, entre muitas outras coisas, a forma que deviam seguir as cerimónias de casamento católico.\n"
   ],
   "metadata": {}
  },
  {
   "cell_type": "markdown",
   "source": [
    "---\n",
    "## Outras informações recolhidas nos registos de baptismos, casamentos e óbitos\n",
    "\n",
    "Informações adicionais sobre as pessoas envolvidas neste caso foram recolhidas nos livros da paróquia de Soure, entre os anos de 1686 e 1732."
   ],
   "metadata": {}
  },
  {
   "cell_type": "markdown",
   "source": [
    "### Sobre [Josefa do Espírito Santo](https://timelink.uc.pt/mhk/soure/id/rp-448)"
   ],
   "metadata": {}
  },
  {
   "cell_type": "markdown",
   "source": [
    "Foi baptizada a [3 de Maio de 1686](https://timelink.uc.pt/mhk/soure/id/b1686.25). Por isso tinha 30 anos na altura do impedimento.\n",
    "\n",
    "Tinha uma irmã mais nova, chamada Joana, que foi batizada em [26 de Junho de 1689](https://timelink.uc.pt/mhk/soure/id/b1689.50).\n",
    "\n",
    "O pai de ambas, [Domingos Fernandes](https://timelink.uc.pt/mhk/soure/id/rp-454), morreu em [23 de Outubro de 1700](https://timelink.uc.pt/mhk/soure/id/o1700-2609), Josefa tinha 14 anos e Joana 11.\n",
    "\n",
    "Baptiza com [José Rodrigues](https://timelink.uc.pt/mhk/soure/id/rp-536) duas crianças: [Maria](https://timelink.uc.pt/mhk/soure/id/b1717.100) em Novembro de 1717 e [Joana](https://timelink.uc.pt/mhk/soure/id/b1720.60) em Agosto de 1720.\n"
   ],
   "metadata": {}
  },
  {
   "cell_type": "markdown",
   "source": [
    "### Sobre [Joana do Espírito Santo](https://timelink.uc.pt/mhk/soure/id/rp-452)\n",
    "\n",
    "Irmã mais nova de [Josefa do Espírito Santo](https://timelink.uc.pt/mhk/soure/id/rp-448).\n",
    "\n",
    "Foi [baptizada em 26 de Junho de 1689](https://timelink.uc.pt/mhk/soure/id/b1689.50). \n",
    "\n",
    "[Joana do Espírito Santo](https://timelink.uc.pt/mhk/soure/id/rp-452) casou-se em [27 de Novembro de 1712](https://timelink.uc.pt/mhk/soure/id/c1712.17) na Igreja da Santa Casa da Misericórdia de Soure. Tinha 23 anos.\n",
    "\n",
    "Na altura do casamento de Joana, tanto o pai como a mãe de ambas já eram falecidos. Eram por isso órfãs de pai e mãe.\n",
    "\n",
    "O facto do casamento de [Joana do Espírito Santo](https://timelink.uc.pt/mhk/soure/id/rp-452) ter lugar na Igreja da Misericórdia significa que Joana teve um dote da Santa Casa da Misericórdia para casar.\n",
    "\n",
    "Esse dote era concedido uma vez por ano a uma órfã pobre, para poder casar com dignidade.\n",
    "\n",
    "Joana será madrinha dos filhos de Josefa com José Rodrigues em "
   ],
   "metadata": {}
  },
  {
   "cell_type": "markdown",
   "source": [
    "### Sobre [Mariana Francisco](https://timelink.uc.pt/mhk/soure/id/rp-487), mulher de[Manuel Gaspar](https://timelink.uc.pt/mhk/soure/id/rp-486), testemunha indicada por Josefa Espírito Santo \n",
    "\n",
    "Foi batizada a [29 de agosto de 1686](https://timelink.uc.pt/mhk/soure/id/b1686.50) como filha ilegítima de [Paulo Marques](https://timelink.uc.pt/mhk/soure/id/rp-488) e [Francisca Rosado](https://timelink.uc.pt/mhk/soure/id/rp-489)\n",
    "\n",
    "Casou-se com Manuel Gaspar[Manuel Gaspar](https://timelink.uc.pt/mhk/soure/id/rp-486) poucos dias antes do impedimento de Josefa do Espírito Santo, em [12 de Outubro de 1712](https://timelink.uc.pt/mhk/soure/id/c1716.14) "
   ],
   "metadata": {}
  },
  {
   "cell_type": "markdown",
   "source": [
    "### Sobre [Isabel Rodrigues](https://timelink.uc.pt/mhk/soure/id/rp-517) testemunha indicada por [Josefa do Espírito Santo](https://timelink.uc.pt/mhk/soure/id/rp-448)\n",
    "\n",
    "Foi também interrogada no segundo impedimento de Maria Rodrigues.\n",
    "\n",
    "Filha do falecido [Manuel Jorge](https://timelink.uc.pt/mhk/soure/id/rp-514).\n",
    "\n",
    "Prima de [José Rodrigues](https://timelink.uc.pt/mhk/soure/id/rp-536) e irmã de [Manuel Jorge](https://timelink.uc.pt/mhk/soure/id/rp-480), acusado de ter um caso com Josefa do Espírito Santo\n",
    "\n",
    "Esta testemunha, solteira nesta altura (1716), tinha tido em [1709](https://timelink.uc.pt/mhk/soure/id/b1709.73) uma criança chamada Jacinta, com [Sebastiao Francisco](https://timelink.uc.pt/mhk/soure/id/rp-502).\n",
    "\n",
    " A criança foi batisada como ilegítima e a mãe como solteira, nomeando o pai.\n",
    "\n",
    " No batismo aparece com o nome de Isabel Jorge, o que se explica por ser o apelido do pai. Teria na altura cerca de 27 anos (calculados a partir da idade de 35 anos aqui declarada). O facto do pai ser referido como \"Lavrador\", já falecido, no depoimento da filha em 1716, coloca-a numa faixa social mais elevada.\n",
    "\n",
    " O pai da criança de Isabel Rodrigues, [Sebastiao Francisco](https://timelink.uc.pt/mhk/soure/id/rp-502), era viúvo quando teve a filha com Isabel Rodrigues. \n",
    "\n",
    "[Sebastiao Francisco](https://timelink.uc.pt/mhk/soure/id/rp-502) fora casado com [Francisca Gomes](https://timelink.uc.pt/mhk/soure/id/rp-503) em [25 de maio de 1697](https://timelink.uc.pt/mhk/soure/id/c1697-73). Tinha duas filhas desse primeiro casamento.\n",
    "\n",
    "[Isabel Rodrigues](https://timelink.uc.pt/mhk/soure/id/rp-517) e [Sebastiao Francisco](https://timelink.uc.pt/mhk/soure/id/rp-502) vão casar em [1717](https://timelink.uc.pt/mhk/soure/id/c1717.19). É órfã de pai e mãe na altura do casamento. Teria 36 anos na altura do casamento. "
   ],
   "metadata": {}
  },
  {
   "cell_type": "markdown",
   "source": [
    "### Sobre [Josefa Leão](https://timelink.uc.pt/mhk/soure/id/rp-490) (ou Leoa) testemunha indicada por [Josefa do Espírito Santo](https://timelink.uc.pt/mhk/soure/id/rp-448)\n",
    "\n",
    "Filha de José Leão e Domingas Jorge, foi batizada a [12 de maio fde 1689](https://timelink.uc.pt/mhk/soure/id/b1689.40)\n",
    "\n",
    "Prima de [José Rodrigues](https://timelink.uc.pt/mhk/soure/id/rp-536).\n",
    "\n",
    "Tem 26 anos na altura em que depõe (1716).\n",
    "\n",
    "Casa-se com Bartolomeu Pereira em [2 de fevereiro 1719](https://timelink.uc.pt/mhk/soure/id/c1719.3). Tem 29 anos.\n",
    "\n",
    "[Batiza](https://timelink.uc.pt/mhk/soure/id/b1721.32) uma filha chamada Maria em Abril de 1721"
   ],
   "metadata": {}
  },
  {
   "cell_type": "markdown",
   "source": [
    "### Sobre [Manuel Jorge](https://timelink.uc.pt/mhk/soure/id/rp-480), primo de José Rodrigues, acusado por Maria Francisca de ter tido uma relação com Josefa do Espírito Santo\n",
    "\n",
    "Tinha 30 anos na altura do impedimento (1716).\n",
    "\n",
    "Foi padrinho dos filhos de [José Rodrigues](https://timelink.uc.pt/mhk/soure/id/rp-536) com [Josefa do Espírito Santo](https://timelink.uc.pt/mhk/soure/id/rp-448), [Maria](https://timelink.uc.pt/mhk/soure/id/b1717.100) em Novembro de 1717 e [Joana](https://timelink.uc.pt/mhk/soure/id/b1720.60) em Agosto de 1720.\n",
    "\n",
    "Casou-se em [Fevereiro de 1725](https://timelink.uc.pt/mhk/soure/id/c1725.5), teria então 39 anos, com Maria Lopes dos Santos.\n",
    "\n",
    "Morre antes de 1729, porque encontramos Maria Lopes dos Santos a [casar de novo](https://timelink.uc.pt/mhk/soure/id/c1729.19), como viúva.\n",
    "\n",
    "\n"
   ],
   "metadata": {}
  }
 ],
 "metadata": {
  "orig_nbformat": 4,
  "language_info": {
   "name": "python",
   "version": "3.9.6",
   "mimetype": "text/x-python",
   "codemirror_mode": {
    "name": "ipython",
    "version": 3
   },
   "pygments_lexer": "ipython3",
   "nbconvert_exporter": "python",
   "file_extension": ".py"
  },
  "kernelspec": {
   "name": "python3",
   "display_name": "Python 3.9.6 64-bit ('3.9.6': pyenv)"
  },
  "interpreter": {
   "hash": "eccdb9e0d1076d97dd03d38e0c799e4ede37b46f5ca498b94e73a7a440e62036"
  }
 },
 "nbformat": 4,
 "nbformat_minor": 2
}