{
 "cells": [
  {
   "cell_type": "code",
   "execution_count": 1,
   "source": [
    "from timelink.mhk.utilities import get_dbnames, get_engine"
   ],
   "outputs": [],
   "metadata": {}
  },
  {
   "cell_type": "code",
   "execution_count": 8,
   "source": [
    "dbs = get_dbnames()\n",
    "db = [db for db in dbs if 'soure' in db][0] # first db with 'soure' in the name"
   ],
   "outputs": [],
   "metadata": {}
  },
  {
   "cell_type": "code",
   "execution_count": 9,
   "source": [
    "engine = get_engine(db)"
   ],
   "outputs": [],
   "metadata": {}
  },
  {
   "cell_type": "code",
   "execution_count": null,
   "source": [],
   "outputs": [],
   "metadata": {}
  }
 ],
 "metadata": {
  "orig_nbformat": 4,
  "language_info": {
   "name": "python",
   "version": "3.9.6",
   "mimetype": "text/x-python",
   "codemirror_mode": {
    "name": "ipython",
    "version": 3
   },
   "pygments_lexer": "ipython3",
   "nbconvert_exporter": "python",
   "file_extension": ".py"
  },
  "kernelspec": {
   "name": "python3",
   "display_name": "Python 3.9.6 64-bit ('3.9.6': pyenv)"
  },
  "interpreter": {
   "hash": "eccdb9e0d1076d97dd03d38e0c799e4ede37b46f5ca498b94e73a7a440e62036"
  }
 },
 "nbformat": 4,
 "nbformat_minor": 2
}